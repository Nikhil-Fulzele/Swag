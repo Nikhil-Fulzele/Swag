{
 "cells": [
  {
   "cell_type": "markdown",
   "metadata": {},
   "source": [
    "# Sample usage of Swag"
   ]
  },
  {
   "cell_type": "markdown",
   "metadata": {},
   "source": [
    "### 1. Make the necessary imports"
   ]
  },
  {
   "cell_type": "code",
   "execution_count": 1,
   "metadata": {
    "ExecuteTime": {
     "end_time": "2020-02-22T09:17:26.482879Z",
     "start_time": "2020-02-22T09:17:25.111930Z"
    }
   },
   "outputs": [],
   "source": [
    "from sklearn.neural_network import MLPRegressor\n",
    "from sklearn.metrics import mean_squared_error, r2_score, mean_absolute_error\n",
    "from sklearn import datasets\n",
    "from random import randint\n",
    "from swag import Swag"
   ]
  },
  {
   "cell_type": "markdown",
   "metadata": {},
   "source": [
    "## 2. Initialize swag with experiment name"
   ]
  },
  {
   "cell_type": "code",
   "execution_count": 2,
   "metadata": {
    "ExecuteTime": {
     "end_time": "2020-02-22T09:17:26.490110Z",
     "start_time": "2020-02-22T09:17:26.485852Z"
    }
   },
   "outputs": [],
   "source": [
    "s = Swag(\"Iris Experiment\")\n",
    "swag = s.swag"
   ]
  },
  {
   "cell_type": "markdown",
   "metadata": {},
   "source": [
    "## 3. load the desire dataset"
   ]
  },
  {
   "cell_type": "code",
   "execution_count": 3,
   "metadata": {
    "ExecuteTime": {
     "end_time": "2020-02-22T09:17:26.497940Z",
     "start_time": "2020-02-22T09:17:26.492777Z"
    }
   },
   "outputs": [],
   "source": [
    "iris = datasets.load_iris()\n",
    "X = iris.data\n",
    "y = iris.target"
   ]
  },
  {
   "cell_type": "markdown",
   "metadata": {},
   "source": [
    "## 4. Perform the experiment "
   ]
  },
  {
   "cell_type": "code",
   "execution_count": 4,
   "metadata": {
    "ExecuteTime": {
     "end_time": "2020-02-22T09:17:26.581829Z",
     "start_time": "2020-02-22T09:17:26.500420Z"
    }
   },
   "outputs": [
    {
     "name": "stderr",
     "output_type": "stream",
     "text": [
      "/Library/Frameworks/Python.framework/Versions/3.7/lib/python3.7/site-packages/sklearn/neural_network/_multilayer_perceptron.py:571: ConvergenceWarning: Stochastic Optimizer: Maximum iterations (10) reached and the optimization hasn't converged yet.\n",
      "  % self.max_iter, ConvergenceWarning)\n",
      "/Library/Frameworks/Python.framework/Versions/3.7/lib/python3.7/site-packages/sklearn/neural_network/_multilayer_perceptron.py:571: ConvergenceWarning: Stochastic Optimizer: Maximum iterations (10) reached and the optimization hasn't converged yet.\n",
      "  % self.max_iter, ConvergenceWarning)\n",
      "/Library/Frameworks/Python.framework/Versions/3.7/lib/python3.7/site-packages/sklearn/neural_network/_multilayer_perceptron.py:571: ConvergenceWarning: Stochastic Optimizer: Maximum iterations (10) reached and the optimization hasn't converged yet.\n",
      "  % self.max_iter, ConvergenceWarning)\n"
     ]
    }
   ],
   "source": [
    "for i in range(3):\n",
    "\n",
    "    a = randint(1, 5)\n",
    "    b = randint(1, 10)\n",
    "\n",
    "    # Initialize model\n",
    "    nn = MLPRegressor(hidden_layer_sizes=(a, b, ), n_iter_no_change=10, activation=\"tanh\", max_iter=10)\n",
    "\n",
    "    # Fit with swag\n",
    "    swag(nn.fit)(X, y)\n",
    "\n",
    "    # Measure with swag\n",
    "    swag(mean_squared_error)(y, nn.predict(X))\n",
    "\n",
    "    # Measure with swag\n",
    "    swag(r2_score)(y, nn.predict(X))\n",
    "\n",
    "    # Measure with swag\n",
    "    yhat = nn.predict(X)\n",
    "    swag(mean_absolute_error)(y, yhat)"
   ]
  },
  {
   "cell_type": "markdown",
   "metadata": {},
   "source": [
    "## 5. Get the runs information using experiment name"
   ]
  },
  {
   "cell_type": "code",
   "execution_count": 5,
   "metadata": {
    "ExecuteTime": {
     "end_time": "2020-02-22T09:17:26.600519Z",
     "start_time": "2020-02-22T09:17:26.583526Z"
    }
   },
   "outputs": [
    {
     "data": {
      "text/html": [
       "<div>\n",
       "<style scoped>\n",
       "    .dataframe tbody tr th:only-of-type {\n",
       "        vertical-align: middle;\n",
       "    }\n",
       "\n",
       "    .dataframe tbody tr th {\n",
       "        vertical-align: top;\n",
       "    }\n",
       "\n",
       "    .dataframe thead th {\n",
       "        text-align: right;\n",
       "    }\n",
       "</style>\n",
       "<table border=\"1\" class=\"dataframe\">\n",
       "  <thead>\n",
       "    <tr style=\"text-align: right;\">\n",
       "      <th></th>\n",
       "      <th>experiment_id</th>\n",
       "      <th>run_name</th>\n",
       "      <th>run_id</th>\n",
       "      <th>triggered_time</th>\n",
       "      <th>execution_time</th>\n",
       "    </tr>\n",
       "  </thead>\n",
       "  <tbody>\n",
       "    <tr>\n",
       "      <th>0</th>\n",
       "      <td>2bcc5009fe9b4e5fabd3942e6cef07c9</td>\n",
       "      <td>RUN_858ef9db2d1040839555a7e1eab0d5f6</td>\n",
       "      <td>858ef9db2d1040839555a7e1eab0d5f6</td>\n",
       "      <td>1.582363e+09</td>\n",
       "      <td>0.013960</td>\n",
       "    </tr>\n",
       "    <tr>\n",
       "      <th>1</th>\n",
       "      <td>2bcc5009fe9b4e5fabd3942e6cef07c9</td>\n",
       "      <td>RUN_0f30bb84dc574bc0a12559b0897ac297</td>\n",
       "      <td>0f30bb84dc574bc0a12559b0897ac297</td>\n",
       "      <td>1.582363e+09</td>\n",
       "      <td>0.005339</td>\n",
       "    </tr>\n",
       "    <tr>\n",
       "      <th>2</th>\n",
       "      <td>2bcc5009fe9b4e5fabd3942e6cef07c9</td>\n",
       "      <td>RUN_2d8a8bc5736145fd86a187bdc00347df</td>\n",
       "      <td>2d8a8bc5736145fd86a187bdc00347df</td>\n",
       "      <td>1.582363e+09</td>\n",
       "      <td>0.004279</td>\n",
       "    </tr>\n",
       "    <tr>\n",
       "      <th>3</th>\n",
       "      <td>3afea501ba584811b9425a4c594e2e42</td>\n",
       "      <td>RUN_ce55c5d217384ae58de758f230ce02b6</td>\n",
       "      <td>ce55c5d217384ae58de758f230ce02b6</td>\n",
       "      <td>1.582363e+09</td>\n",
       "      <td>0.007481</td>\n",
       "    </tr>\n",
       "    <tr>\n",
       "      <th>4</th>\n",
       "      <td>3afea501ba584811b9425a4c594e2e42</td>\n",
       "      <td>RUN_ae3dda5ee83347df983f053630947e25</td>\n",
       "      <td>ae3dda5ee83347df983f053630947e25</td>\n",
       "      <td>1.582363e+09</td>\n",
       "      <td>0.004032</td>\n",
       "    </tr>\n",
       "    <tr>\n",
       "      <th>5</th>\n",
       "      <td>3afea501ba584811b9425a4c594e2e42</td>\n",
       "      <td>RUN_d2974a392c614bc799df3cff0618d3f0</td>\n",
       "      <td>d2974a392c614bc799df3cff0618d3f0</td>\n",
       "      <td>1.582363e+09</td>\n",
       "      <td>0.003777</td>\n",
       "    </tr>\n",
       "  </tbody>\n",
       "</table>\n",
       "</div>"
      ],
      "text/plain": [
       "                      experiment_id                              run_name  \\\n",
       "0  2bcc5009fe9b4e5fabd3942e6cef07c9  RUN_858ef9db2d1040839555a7e1eab0d5f6   \n",
       "1  2bcc5009fe9b4e5fabd3942e6cef07c9  RUN_0f30bb84dc574bc0a12559b0897ac297   \n",
       "2  2bcc5009fe9b4e5fabd3942e6cef07c9  RUN_2d8a8bc5736145fd86a187bdc00347df   \n",
       "3  3afea501ba584811b9425a4c594e2e42  RUN_ce55c5d217384ae58de758f230ce02b6   \n",
       "4  3afea501ba584811b9425a4c594e2e42  RUN_ae3dda5ee83347df983f053630947e25   \n",
       "5  3afea501ba584811b9425a4c594e2e42  RUN_d2974a392c614bc799df3cff0618d3f0   \n",
       "\n",
       "                             run_id  triggered_time  execution_time  \n",
       "0  858ef9db2d1040839555a7e1eab0d5f6    1.582363e+09        0.013960  \n",
       "1  0f30bb84dc574bc0a12559b0897ac297    1.582363e+09        0.005339  \n",
       "2  2d8a8bc5736145fd86a187bdc00347df    1.582363e+09        0.004279  \n",
       "3  ce55c5d217384ae58de758f230ce02b6    1.582363e+09        0.007481  \n",
       "4  ae3dda5ee83347df983f053630947e25    1.582363e+09        0.004032  \n",
       "5  d2974a392c614bc799df3cff0618d3f0    1.582363e+09        0.003777  "
      ]
     },
     "execution_count": 5,
     "metadata": {},
     "output_type": "execute_result"
    }
   ],
   "source": [
    "s.get_swag_dataframe(experiment_name=\"Iris Experiment\")"
   ]
  },
  {
   "cell_type": "markdown",
   "metadata": {},
   "source": [
    "## 6. Get model information from run_id"
   ]
  },
  {
   "cell_type": "code",
   "execution_count": 6,
   "metadata": {
    "ExecuteTime": {
     "end_time": "2020-02-22T09:17:26.610605Z",
     "start_time": "2020-02-22T09:17:26.603026Z"
    }
   },
   "outputs": [],
   "source": [
    "model, params, metrics = s.get_swag_dataframe(run_id=\"858ef9db2d1040839555a7e1eab0d5f6\")"
   ]
  },
  {
   "cell_type": "markdown",
   "metadata": {},
   "source": [
    "### 6.1. Display model info"
   ]
  },
  {
   "cell_type": "code",
   "execution_count": 7,
   "metadata": {
    "ExecuteTime": {
     "end_time": "2020-02-22T09:17:26.622109Z",
     "start_time": "2020-02-22T09:17:26.612915Z"
    }
   },
   "outputs": [
    {
     "data": {
      "text/html": [
       "<div>\n",
       "<style scoped>\n",
       "    .dataframe tbody tr th:only-of-type {\n",
       "        vertical-align: middle;\n",
       "    }\n",
       "\n",
       "    .dataframe tbody tr th {\n",
       "        vertical-align: top;\n",
       "    }\n",
       "\n",
       "    .dataframe thead th {\n",
       "        text-align: right;\n",
       "    }\n",
       "</style>\n",
       "<table border=\"1\" class=\"dataframe\">\n",
       "  <thead>\n",
       "    <tr style=\"text-align: right;\">\n",
       "      <th></th>\n",
       "      <th>run_id</th>\n",
       "      <th>model_name</th>\n",
       "      <th>model_id</th>\n",
       "      <th>module_name</th>\n",
       "      <th>package_name</th>\n",
       "      <th>package_version</th>\n",
       "      <th>optimizer_id</th>\n",
       "    </tr>\n",
       "  </thead>\n",
       "  <tbody>\n",
       "    <tr>\n",
       "      <th>0</th>\n",
       "      <td>858ef9db2d1040839555a7e1eab0d5f6</td>\n",
       "      <td>MLPRegressor</td>\n",
       "      <td>-9223372036532763602</td>\n",
       "      <td>sklearn.neural_network</td>\n",
       "      <td>sklearn</td>\n",
       "      <td>0.22.1</td>\n",
       "      <td>None</td>\n",
       "    </tr>\n",
       "  </tbody>\n",
       "</table>\n",
       "</div>"
      ],
      "text/plain": [
       "                             run_id    model_name              model_id  \\\n",
       "0  858ef9db2d1040839555a7e1eab0d5f6  MLPRegressor  -9223372036532763602   \n",
       "\n",
       "              module_name package_name package_version optimizer_id  \n",
       "0  sklearn.neural_network      sklearn          0.22.1         None  "
      ]
     },
     "metadata": {},
     "output_type": "display_data"
    }
   ],
   "source": [
    "display(model)"
   ]
  },
  {
   "cell_type": "markdown",
   "metadata": {},
   "source": [
    "### 6.2. Display params info"
   ]
  },
  {
   "cell_type": "code",
   "execution_count": 8,
   "metadata": {
    "ExecuteTime": {
     "end_time": "2020-02-22T09:17:26.640378Z",
     "start_time": "2020-02-22T09:17:26.626362Z"
    }
   },
   "outputs": [
    {
     "data": {
      "text/html": [
       "<div>\n",
       "<style scoped>\n",
       "    .dataframe tbody tr th:only-of-type {\n",
       "        vertical-align: middle;\n",
       "    }\n",
       "\n",
       "    .dataframe tbody tr th {\n",
       "        vertical-align: top;\n",
       "    }\n",
       "\n",
       "    .dataframe thead th {\n",
       "        text-align: right;\n",
       "    }\n",
       "</style>\n",
       "<table border=\"1\" class=\"dataframe\">\n",
       "  <thead>\n",
       "    <tr style=\"text-align: right;\">\n",
       "      <th></th>\n",
       "      <th>run_id</th>\n",
       "      <th>model_id</th>\n",
       "      <th>param_name</th>\n",
       "      <th>param_value</th>\n",
       "      <th>optimizer_id</th>\n",
       "    </tr>\n",
       "  </thead>\n",
       "  <tbody>\n",
       "    <tr>\n",
       "      <th>0</th>\n",
       "      <td>858ef9db2d1040839555a7e1eab0d5f6</td>\n",
       "      <td>-9223372036532763602</td>\n",
       "      <td>hidden_layer_sizes</td>\n",
       "      <td>(1, 9)</td>\n",
       "      <td>None</td>\n",
       "    </tr>\n",
       "    <tr>\n",
       "      <th>1</th>\n",
       "      <td>858ef9db2d1040839555a7e1eab0d5f6</td>\n",
       "      <td>-9223372036532763602</td>\n",
       "      <td>activation</td>\n",
       "      <td>tanh</td>\n",
       "      <td>None</td>\n",
       "    </tr>\n",
       "    <tr>\n",
       "      <th>2</th>\n",
       "      <td>858ef9db2d1040839555a7e1eab0d5f6</td>\n",
       "      <td>-9223372036532763602</td>\n",
       "      <td>solver</td>\n",
       "      <td>adam</td>\n",
       "      <td>None</td>\n",
       "    </tr>\n",
       "    <tr>\n",
       "      <th>3</th>\n",
       "      <td>858ef9db2d1040839555a7e1eab0d5f6</td>\n",
       "      <td>-9223372036532763602</td>\n",
       "      <td>alpha</td>\n",
       "      <td>0.0001</td>\n",
       "      <td>None</td>\n",
       "    </tr>\n",
       "    <tr>\n",
       "      <th>4</th>\n",
       "      <td>858ef9db2d1040839555a7e1eab0d5f6</td>\n",
       "      <td>-9223372036532763602</td>\n",
       "      <td>batch_size</td>\n",
       "      <td>auto</td>\n",
       "      <td>None</td>\n",
       "    </tr>\n",
       "    <tr>\n",
       "      <th>5</th>\n",
       "      <td>858ef9db2d1040839555a7e1eab0d5f6</td>\n",
       "      <td>-9223372036532763602</td>\n",
       "      <td>learning_rate</td>\n",
       "      <td>constant</td>\n",
       "      <td>None</td>\n",
       "    </tr>\n",
       "    <tr>\n",
       "      <th>6</th>\n",
       "      <td>858ef9db2d1040839555a7e1eab0d5f6</td>\n",
       "      <td>-9223372036532763602</td>\n",
       "      <td>learning_rate_init</td>\n",
       "      <td>0.001</td>\n",
       "      <td>None</td>\n",
       "    </tr>\n",
       "    <tr>\n",
       "      <th>7</th>\n",
       "      <td>858ef9db2d1040839555a7e1eab0d5f6</td>\n",
       "      <td>-9223372036532763602</td>\n",
       "      <td>power_t</td>\n",
       "      <td>0.5</td>\n",
       "      <td>None</td>\n",
       "    </tr>\n",
       "    <tr>\n",
       "      <th>8</th>\n",
       "      <td>858ef9db2d1040839555a7e1eab0d5f6</td>\n",
       "      <td>-9223372036532763602</td>\n",
       "      <td>max_iter</td>\n",
       "      <td>10</td>\n",
       "      <td>None</td>\n",
       "    </tr>\n",
       "    <tr>\n",
       "      <th>9</th>\n",
       "      <td>858ef9db2d1040839555a7e1eab0d5f6</td>\n",
       "      <td>-9223372036532763602</td>\n",
       "      <td>shuffle</td>\n",
       "      <td>True</td>\n",
       "      <td>None</td>\n",
       "    </tr>\n",
       "    <tr>\n",
       "      <th>10</th>\n",
       "      <td>858ef9db2d1040839555a7e1eab0d5f6</td>\n",
       "      <td>-9223372036532763602</td>\n",
       "      <td>random_state</td>\n",
       "      <td>None</td>\n",
       "      <td>None</td>\n",
       "    </tr>\n",
       "    <tr>\n",
       "      <th>11</th>\n",
       "      <td>858ef9db2d1040839555a7e1eab0d5f6</td>\n",
       "      <td>-9223372036532763602</td>\n",
       "      <td>tol</td>\n",
       "      <td>0.0001</td>\n",
       "      <td>None</td>\n",
       "    </tr>\n",
       "    <tr>\n",
       "      <th>12</th>\n",
       "      <td>858ef9db2d1040839555a7e1eab0d5f6</td>\n",
       "      <td>-9223372036532763602</td>\n",
       "      <td>verbose</td>\n",
       "      <td>False</td>\n",
       "      <td>None</td>\n",
       "    </tr>\n",
       "    <tr>\n",
       "      <th>13</th>\n",
       "      <td>858ef9db2d1040839555a7e1eab0d5f6</td>\n",
       "      <td>-9223372036532763602</td>\n",
       "      <td>warm_start</td>\n",
       "      <td>False</td>\n",
       "      <td>None</td>\n",
       "    </tr>\n",
       "    <tr>\n",
       "      <th>14</th>\n",
       "      <td>858ef9db2d1040839555a7e1eab0d5f6</td>\n",
       "      <td>-9223372036532763602</td>\n",
       "      <td>momentum</td>\n",
       "      <td>0.9</td>\n",
       "      <td>None</td>\n",
       "    </tr>\n",
       "    <tr>\n",
       "      <th>15</th>\n",
       "      <td>858ef9db2d1040839555a7e1eab0d5f6</td>\n",
       "      <td>-9223372036532763602</td>\n",
       "      <td>nesterovs_momentum</td>\n",
       "      <td>True</td>\n",
       "      <td>None</td>\n",
       "    </tr>\n",
       "    <tr>\n",
       "      <th>16</th>\n",
       "      <td>858ef9db2d1040839555a7e1eab0d5f6</td>\n",
       "      <td>-9223372036532763602</td>\n",
       "      <td>early_stopping</td>\n",
       "      <td>False</td>\n",
       "      <td>None</td>\n",
       "    </tr>\n",
       "    <tr>\n",
       "      <th>17</th>\n",
       "      <td>858ef9db2d1040839555a7e1eab0d5f6</td>\n",
       "      <td>-9223372036532763602</td>\n",
       "      <td>validation_fraction</td>\n",
       "      <td>0.1</td>\n",
       "      <td>None</td>\n",
       "    </tr>\n",
       "    <tr>\n",
       "      <th>18</th>\n",
       "      <td>858ef9db2d1040839555a7e1eab0d5f6</td>\n",
       "      <td>-9223372036532763602</td>\n",
       "      <td>beta_1</td>\n",
       "      <td>0.9</td>\n",
       "      <td>None</td>\n",
       "    </tr>\n",
       "    <tr>\n",
       "      <th>19</th>\n",
       "      <td>858ef9db2d1040839555a7e1eab0d5f6</td>\n",
       "      <td>-9223372036532763602</td>\n",
       "      <td>beta_2</td>\n",
       "      <td>0.999</td>\n",
       "      <td>None</td>\n",
       "    </tr>\n",
       "    <tr>\n",
       "      <th>20</th>\n",
       "      <td>858ef9db2d1040839555a7e1eab0d5f6</td>\n",
       "      <td>-9223372036532763602</td>\n",
       "      <td>epsilon</td>\n",
       "      <td>1e-08</td>\n",
       "      <td>None</td>\n",
       "    </tr>\n",
       "    <tr>\n",
       "      <th>21</th>\n",
       "      <td>858ef9db2d1040839555a7e1eab0d5f6</td>\n",
       "      <td>-9223372036532763602</td>\n",
       "      <td>n_iter_no_change</td>\n",
       "      <td>10</td>\n",
       "      <td>None</td>\n",
       "    </tr>\n",
       "    <tr>\n",
       "      <th>22</th>\n",
       "      <td>858ef9db2d1040839555a7e1eab0d5f6</td>\n",
       "      <td>-9223372036532763602</td>\n",
       "      <td>max_fun</td>\n",
       "      <td>15000</td>\n",
       "      <td>None</td>\n",
       "    </tr>\n",
       "  </tbody>\n",
       "</table>\n",
       "</div>"
      ],
      "text/plain": [
       "                              run_id              model_id  \\\n",
       "0   858ef9db2d1040839555a7e1eab0d5f6  -9223372036532763602   \n",
       "1   858ef9db2d1040839555a7e1eab0d5f6  -9223372036532763602   \n",
       "2   858ef9db2d1040839555a7e1eab0d5f6  -9223372036532763602   \n",
       "3   858ef9db2d1040839555a7e1eab0d5f6  -9223372036532763602   \n",
       "4   858ef9db2d1040839555a7e1eab0d5f6  -9223372036532763602   \n",
       "5   858ef9db2d1040839555a7e1eab0d5f6  -9223372036532763602   \n",
       "6   858ef9db2d1040839555a7e1eab0d5f6  -9223372036532763602   \n",
       "7   858ef9db2d1040839555a7e1eab0d5f6  -9223372036532763602   \n",
       "8   858ef9db2d1040839555a7e1eab0d5f6  -9223372036532763602   \n",
       "9   858ef9db2d1040839555a7e1eab0d5f6  -9223372036532763602   \n",
       "10  858ef9db2d1040839555a7e1eab0d5f6  -9223372036532763602   \n",
       "11  858ef9db2d1040839555a7e1eab0d5f6  -9223372036532763602   \n",
       "12  858ef9db2d1040839555a7e1eab0d5f6  -9223372036532763602   \n",
       "13  858ef9db2d1040839555a7e1eab0d5f6  -9223372036532763602   \n",
       "14  858ef9db2d1040839555a7e1eab0d5f6  -9223372036532763602   \n",
       "15  858ef9db2d1040839555a7e1eab0d5f6  -9223372036532763602   \n",
       "16  858ef9db2d1040839555a7e1eab0d5f6  -9223372036532763602   \n",
       "17  858ef9db2d1040839555a7e1eab0d5f6  -9223372036532763602   \n",
       "18  858ef9db2d1040839555a7e1eab0d5f6  -9223372036532763602   \n",
       "19  858ef9db2d1040839555a7e1eab0d5f6  -9223372036532763602   \n",
       "20  858ef9db2d1040839555a7e1eab0d5f6  -9223372036532763602   \n",
       "21  858ef9db2d1040839555a7e1eab0d5f6  -9223372036532763602   \n",
       "22  858ef9db2d1040839555a7e1eab0d5f6  -9223372036532763602   \n",
       "\n",
       "             param_name param_value optimizer_id  \n",
       "0    hidden_layer_sizes      (1, 9)         None  \n",
       "1            activation        tanh         None  \n",
       "2                solver        adam         None  \n",
       "3                 alpha      0.0001         None  \n",
       "4            batch_size        auto         None  \n",
       "5         learning_rate    constant         None  \n",
       "6    learning_rate_init       0.001         None  \n",
       "7               power_t         0.5         None  \n",
       "8              max_iter          10         None  \n",
       "9               shuffle        True         None  \n",
       "10         random_state        None         None  \n",
       "11                  tol      0.0001         None  \n",
       "12              verbose       False         None  \n",
       "13           warm_start       False         None  \n",
       "14             momentum         0.9         None  \n",
       "15   nesterovs_momentum        True         None  \n",
       "16       early_stopping       False         None  \n",
       "17  validation_fraction         0.1         None  \n",
       "18               beta_1         0.9         None  \n",
       "19               beta_2       0.999         None  \n",
       "20              epsilon       1e-08         None  \n",
       "21     n_iter_no_change          10         None  \n",
       "22              max_fun       15000         None  "
      ]
     },
     "metadata": {},
     "output_type": "display_data"
    }
   ],
   "source": [
    "display(params)"
   ]
  },
  {
   "cell_type": "markdown",
   "metadata": {},
   "source": [
    "### 6.3. Display metrics info"
   ]
  },
  {
   "cell_type": "code",
   "execution_count": 9,
   "metadata": {
    "ExecuteTime": {
     "end_time": "2020-02-22T09:17:26.650682Z",
     "start_time": "2020-02-22T09:17:26.642748Z"
    }
   },
   "outputs": [
    {
     "data": {
      "text/html": [
       "<div>\n",
       "<style scoped>\n",
       "    .dataframe tbody tr th:only-of-type {\n",
       "        vertical-align: middle;\n",
       "    }\n",
       "\n",
       "    .dataframe tbody tr th {\n",
       "        vertical-align: top;\n",
       "    }\n",
       "\n",
       "    .dataframe thead th {\n",
       "        text-align: right;\n",
       "    }\n",
       "</style>\n",
       "<table border=\"1\" class=\"dataframe\">\n",
       "  <thead>\n",
       "    <tr style=\"text-align: right;\">\n",
       "      <th></th>\n",
       "      <th>run_id</th>\n",
       "      <th>model_id</th>\n",
       "      <th>metric_name</th>\n",
       "      <th>metric_value</th>\n",
       "    </tr>\n",
       "  </thead>\n",
       "  <tbody>\n",
       "    <tr>\n",
       "      <th>0</th>\n",
       "      <td>858ef9db2d1040839555a7e1eab0d5f6</td>\n",
       "      <td>-9223372036532763602</td>\n",
       "      <td>mean_squared_error</td>\n",
       "      <td>2.937241</td>\n",
       "    </tr>\n",
       "    <tr>\n",
       "      <th>1</th>\n",
       "      <td>858ef9db2d1040839555a7e1eab0d5f6</td>\n",
       "      <td>-9223372036532763602</td>\n",
       "      <td>r2_score</td>\n",
       "      <td>-3.405861</td>\n",
       "    </tr>\n",
       "    <tr>\n",
       "      <th>2</th>\n",
       "      <td>858ef9db2d1040839555a7e1eab0d5f6</td>\n",
       "      <td>-9223372036532763602</td>\n",
       "      <td>mean_absolute_error</td>\n",
       "      <td>1.404246</td>\n",
       "    </tr>\n",
       "  </tbody>\n",
       "</table>\n",
       "</div>"
      ],
      "text/plain": [
       "                             run_id              model_id  \\\n",
       "0  858ef9db2d1040839555a7e1eab0d5f6  -9223372036532763602   \n",
       "1  858ef9db2d1040839555a7e1eab0d5f6  -9223372036532763602   \n",
       "2  858ef9db2d1040839555a7e1eab0d5f6  -9223372036532763602   \n",
       "\n",
       "           metric_name  metric_value  \n",
       "0   mean_squared_error      2.937241  \n",
       "1             r2_score     -3.405861  \n",
       "2  mean_absolute_error      1.404246  "
      ]
     },
     "metadata": {},
     "output_type": "display_data"
    }
   ],
   "source": [
    "display(metrics)"
   ]
  }
 ],
 "metadata": {
  "kernelspec": {
   "display_name": "Python 3",
   "language": "python",
   "name": "python3"
  },
  "language_info": {
   "codemirror_mode": {
    "name": "ipython",
    "version": 3
   },
   "file_extension": ".py",
   "mimetype": "text/x-python",
   "name": "python",
   "nbconvert_exporter": "python",
   "pygments_lexer": "ipython3",
   "version": "3.7.3"
  }
 },
 "nbformat": 4,
 "nbformat_minor": 2
}
